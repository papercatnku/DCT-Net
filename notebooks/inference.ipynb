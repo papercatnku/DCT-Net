{
 "cells": [
  {
   "attachments": {},
   "cell_type": "markdown",
   "metadata": {
    "id": "D2MFmZtpVEp_"
   },
   "source": [
    "x[![Open in Colab](https://colab.research.google.com/assets/colab-badge.svg)](https://colab.research.google.com/github/menyifang/DCT-Net/blob/main/notebooks/inference.ipynb)"
   ]
  },
  {
   "attachments": {},
   "cell_type": "markdown",
   "metadata": {
    "id": "zoNN1PYUOUgU"
   },
   "source": [
    "## Step 1: Installation"
   ]
  },
  {
   "cell_type": "code",
   "execution_count": null,
   "metadata": {
    "id": "7Tv2ZUgrGO6Z"
   },
   "outputs": [],
   "source": [
    "!pip install tensorflow\n",
    "!pip install \"modelscope[cv]\" -f https://modelscope.oss-cn-beijing.aliyuncs.com/releases/repo.html"
   ]
  },
  {
   "attachments": {},
   "cell_type": "markdown",
   "metadata": {
    "id": "kTiXDn7_OTMy"
   },
   "source": [
    "## Step 2: Transfer image"
   ]
  },
  {
   "cell_type": "code",
   "execution_count": null,
   "metadata": {
    "id": "lL2JQBL5Qqjn"
   },
   "outputs": [],
   "source": [
    "!wget 'https://invi-label.oss-cn-shanghai.aliyuncs.com/label/cartoon/image_cartoon.png'"
   ]
  },
  {
   "cell_type": "code",
   "execution_count": null,
   "metadata": {
    "id": "IiuxwjdcJkAf"
   },
   "outputs": [],
   "source": [
    "### portrait stylization with 'anime' style\n",
    "\n",
    "import cv2\n",
    "from modelscope.outputs import OutputKeys\n",
    "from modelscope.pipelines import pipeline\n",
    "from modelscope.utils.constant import Tasks\n",
    "\n",
    "img_cartoon = pipeline(Tasks.image_portrait_stylization, \n",
    "                       model='damo/cv_unet_person-image-cartoon_compound-models')\n",
    "img_path = '../input.png'\n",
    "result = img_cartoon(img_path)\n",
    "cv2.imwrite('result_anime.png', result[OutputKeys.OUTPUT_IMG])\n",
    "print('finished!')\n"
   ]
  },
  {
   "cell_type": "code",
   "execution_count": null,
   "metadata": {
    "id": "FvESA08aPC5a"
   },
   "outputs": [],
   "source": [
    "### portrait stylization with '3d' style\n",
    "\n",
    "import cv2\n",
    "from modelscope.outputs import OutputKeys\n",
    "from modelscope.pipelines import pipeline\n",
    "from modelscope.utils.constant import Tasks\n",
    "\n",
    "img_cartoon = pipeline(Tasks.image_portrait_stylization, \n",
    "                       model='damo/cv_unet_person-image-cartoon-3d_compound-models')\n",
    "img_path = '../input.png'\n",
    "result = img_cartoon(img_path)\n",
    "cv2.imwrite('result_3d.png', result[OutputKeys.OUTPUT_IMG])\n",
    "print('finished!')"
   ]
  },
  {
   "cell_type": "code",
   "execution_count": null,
   "metadata": {
    "id": "MZdiNAuTPm-t"
   },
   "outputs": [],
   "source": [
    "### portrait stylization with 'handdrawn' style\n",
    "\n",
    "import cv2\n",
    "from modelscope.outputs import OutputKeys\n",
    "from modelscope.pipelines import pipeline\n",
    "from modelscope.utils.constant import Tasks\n",
    "\n",
    "img_cartoon = pipeline(Tasks.image_portrait_stylization, \n",
    "                       model='damo/cv_unet_person-image-cartoon-handdrawn_compound-models')\n",
    "img_path = '../input.png'\n",
    "result = img_cartoon(img_path)\n",
    "cv2.imwrite('result_handdrawn.png', result[OutputKeys.OUTPUT_IMG])\n",
    "print('finished!')\n"
   ]
  },
  {
   "cell_type": "code",
   "execution_count": null,
   "metadata": {
    "id": "1Dut6IQ4PnMA"
   },
   "outputs": [],
   "source": [
    "### portrait stylization with 'sketch' style\n",
    "\n",
    "import cv2\n",
    "from modelscope.outputs import OutputKeys\n",
    "from modelscope.pipelines import pipeline\n",
    "from modelscope.utils.constant import Tasks\n",
    "\n",
    "img_cartoon = pipeline(Tasks.image_portrait_stylization, \n",
    "                       model='damo/cv_unet_person-image-cartoon-sketch_compound-models')\n",
    "img_path = '../input.png'\n",
    "result = img_cartoon(img_path)\n",
    "cv2.imwrite('result_sketch.png', result[OutputKeys.OUTPUT_IMG])\n",
    "print('finished!')"
   ]
  },
  {
   "cell_type": "code",
   "execution_count": null,
   "metadata": {
    "id": "gNchD8nGPnZE"
   },
   "outputs": [],
   "source": [
    "### portrait stylization with 'artstyle' style\n",
    "\n",
    "import cv2\n",
    "from modelscope.outputs import OutputKeys\n",
    "from modelscope.pipelines import pipeline\n",
    "from modelscope.utils.constant import Tasks\n",
    "\n",
    "img_cartoon = pipeline(Tasks.image_portrait_stylization, \n",
    "                       model='damo/cv_unet_person-image-cartoon-artstyle_compound-models')\n",
    "img_path = '../input.png'\n",
    "result = img_cartoon(img_path)\n",
    "cv2.imwrite('result_artstyle.png', result[OutputKeys.OUTPUT_IMG])\n",
    "print('finished!')\n"
   ]
  },
  {
   "attachments": {},
   "cell_type": "markdown",
   "metadata": {
    "id": "fShi4lT-ODdE"
   },
   "source": [
    "## Step 3: Visualize results"
   ]
  },
  {
   "cell_type": "code",
   "execution_count": null,
   "metadata": {
    "colab": {
     "base_uri": "https://localhost:8080/",
     "height": 1000
    },
    "id": "k7Llm0SWMLKr",
    "outputId": "20b665ce-653e-48a9-c489-d66e93e1907f"
   },
   "outputs": [],
   "source": [
    "### Visualize source image and stylized result\n",
    "from matplotlib import pyplot as plt\n",
    "def vis_img(path):\n",
    "  img = cv2.imread(path,-1)\n",
    "  plt.imshow(img[..., ::-1])\n",
    "  plt.axis(\"off\")\n",
    "  plt.show()\n",
    "\n",
    "vis_img('image_cartoon.png')\n",
    "vis_img('result_anime.png')\n",
    "vis_img('result_3d.png')\n",
    "vis_img('result_handdrawn.png')\n",
    "vis_img('result_sketch.png')\n",
    "vis_img('result_artstyle.png')"
   ]
  }
 ],
 "metadata": {
  "colab": {
   "collapsed_sections": [],
   "provenance": []
  },
  "kernelspec": {
   "display_name": "Python 3",
   "name": "python3"
  },
  "language_info": {
   "codemirror_mode": {
    "name": "ipython",
    "version": 3
   },
   "file_extension": ".py",
   "mimetype": "text/x-python",
   "name": "python",
   "nbconvert_exporter": "python",
   "pygments_lexer": "ipython3",
   "version": "3.7.16"
  }
 },
 "nbformat": 4,
 "nbformat_minor": 0
}
