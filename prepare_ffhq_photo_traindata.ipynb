{
 "cells": [
  {
   "cell_type": "code",
   "execution_count": 28,
   "metadata": {},
   "outputs": [],
   "source": [
    "import os,sys\n",
    "import cv2\n",
    "\n",
    "from tqdm import tqdm\n",
    "import shutil\n",
    "\n",
    "\n",
    "\n",
    "\n",
    "def get_subfiles(path, length=None):\n",
    "    out_ls = []\n",
    "\n",
    "    def _func(x, ls=[]):\n",
    "        for fn in os.listdir(x):\n",
    "            full_path = os.path.join(x, fn)\n",
    "            if os.path.isdir(full_path):\n",
    "                _func(full_path, ls)\n",
    "            else:\n",
    "                ls.append(full_path)\n",
    "            if length != None and len(out_ls) > length:\n",
    "                return\n",
    "        return\n",
    "    _func(path, out_ls)\n",
    "    # out_ls.sort()\n",
    "    return out_ls\n",
    "\n"
   ]
  },
  {
   "cell_type": "code",
   "execution_count": 29,
   "metadata": {},
   "outputs": [
    {
     "name": "stderr",
     "output_type": "stream",
     "text": [
      "100%|██████████| 70037/70037 [01:32<00:00, 755.22it/s]\n"
     ]
    }
   ],
   "source": [
    "from multiprocessing import Process,Pool\n",
    "\n",
    "src_ffhq_dir = '/media/112new_sde/CommonDatasets/FFHQ/images1024x1024'\n",
    "dst_dir = '/media/112new_sde/CommonDatasets/dctnet_train/face_photo'\n",
    "\n",
    "tar_sz=256\n",
    "fn_s = get_subfiles(src_ffhq_dir)\n",
    "\n",
    "src_prefix_len = len(src_ffhq_dir)+1\n",
    "\n",
    "\n",
    "def save_image(src_fn):\n",
    "    sub_fn = src_fn[src_prefix_len:]\n",
    "    dst_fn = os.path.join(dst_dir, sub_fn)\n",
    "    dst_dir_ = os.path.dirname(dst_fn)\n",
    "    if not os.path.exists(dst_dir_):\n",
    "        os.makedirs(dst_dir_,exist_ok=True)\n",
    "    \n",
    "    srcimg = cv2.imread(src_fn)\n",
    "    if isinstance(srcimg,type(None)):\n",
    "        return False\n",
    "    rsz_img = cv2.resize(srcimg, (tar_sz,tar_sz),interpolation=cv2.INTER_LANCZOS4)\n",
    "    return cv2.imwrite(dst_fn, rsz_img)\n",
    "\n",
    "with Pool(48) as p:\n",
    "    res = list(tqdm(p.imap(save_image, fn_s),total=len(fn_s)))\n",
    "\n"
   ]
  },
  {
   "cell_type": "code",
   "execution_count": 33,
   "metadata": {},
   "outputs": [],
   "source": [
    "from functools import partial\n",
    "from multiprocessing import Process,Pool\n",
    "def mv_file_dummy(fn_pair):\n",
    "    fn, out_fn = fn_pair\n",
    "    shutil.move(fn, out_fn)\n",
    "    return\n",
    "photo_dir = '/media/112new_sde/CommonDatasets/dctnet_train/face_photo'\n",
    "style_dir = '/media/112new_sde/CommonDatasets/dctnet_train/face_cartoon'\n",
    "photo_fns = get_subfiles(photo_dir)\n",
    "photo_sort_fns = sorted(photo_fns)\n",
    "photo_fn_pairs = [\n",
    "    (fn, os.path.join(photo_dir, os.path.join(photo_dir,f'{i:0>6d}.png'))) for i,fn in enumerate(photo_sort_fns)\n",
    "]\n",
    "style_fns = get_subfiles(style_dir)\n",
    "style_sort_fns = sorted(style_fns)\n",
    "style_fn_pairs = [\n",
    "    (fn, os.path.join(style_dir, os.path.join(style_dir,f'{i:0>6d}.png'))) for i,fn in enumerate(style_sort_fns)\n",
    "]"
   ]
  },
  {
   "cell_type": "code",
   "execution_count": 34,
   "metadata": {},
   "outputs": [
    {
     "data": {
      "text/plain": [
       "('/media/112new_sde/CommonDatasets/dctnet_train/face_cartoon/raw_style_faces/Adele_0_0.png',\n",
       " '/media/112new_sde/CommonDatasets/dctnet_train/face_cartoon/000000.png')"
      ]
     },
     "execution_count": 34,
     "metadata": {},
     "output_type": "execute_result"
    }
   ],
   "source": [
    "# photo_fn_pairs[0],style_fn_pairs[0]\n",
    "# photo_fn_pairs[0]\n",
    "style_fn_pairs[0]"
   ]
  },
  {
   "cell_type": "code",
   "execution_count": 35,
   "metadata": {},
   "outputs": [
    {
     "name": "stderr",
     "output_type": "stream",
     "text": [
      "100%|██████████| 44123/44123 [00:12<00:00, 3654.82it/s]\n"
     ]
    }
   ],
   "source": [
    "# with Pool(48) as p:\n",
    "#     res = list(tqdm(p.imap(mv_file_dummy, photo_fn_pairs),total=len(photo_fn_pairs)))\n",
    "with Pool(48) as p:\n",
    "    res = list(tqdm(p.imap(mv_file_dummy, style_fn_pairs),total=len(style_fn_pairs)))"
   ]
  },
  {
   "cell_type": "code",
   "execution_count": null,
   "metadata": {},
   "outputs": [],
   "source": [
    "img_fns =[x for x in fn_s if x.endswith('.png') or x.endswith('.jpg')]\n",
    "print(len(img_fns))\n",
    "img_fns[0][len(src_ffhq_dir)+1:]"
   ]
  }
 ],
 "metadata": {
  "kernelspec": {
   "display_name": "dctnet",
   "language": "python",
   "name": "python3"
  },
  "language_info": {
   "codemirror_mode": {
    "name": "ipython",
    "version": 3
   },
   "file_extension": ".py",
   "mimetype": "text/x-python",
   "name": "python",
   "nbconvert_exporter": "python",
   "pygments_lexer": "ipython3",
   "version": "3.7.16"
  },
  "orig_nbformat": 4
 },
 "nbformat": 4,
 "nbformat_minor": 2
}
