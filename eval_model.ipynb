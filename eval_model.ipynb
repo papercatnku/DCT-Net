{
 "cells": [
  {
   "cell_type": "code",
   "execution_count": null,
   "metadata": {},
   "outputs": [],
   "source": [
    "import numpy as np\n",
    "from PIL import Image, ImageDraw, ImageFont\n",
    "import onnxruntime as ort\n",
    "import os\n",
    "import onnx\n",
    "from PIL import Image\n",
    "import cv2\n",
    "from tqdm import tqdm\n",
    "import struct\n",
    "import matplotlib.pyplot as plt\n",
    "import matplotlib as mpl\n",
    "import json\n",
    "\n",
    "mpl.rcParams['figure.figsize'] = (18, 18)\n",
    "mpl.rcParams['axes.grid'] = False\n",
    "\n",
    "import onnxruntime as ort\n",
    "\n",
    "os.environ['CUDA_VISIBLE_DEVICES'] = '0'\n",
    "\n",
    "onnx_model_path = 'model_handdraw_bg.onnx'\n",
    "onnx_model = onnx.load(onnx_model_path)\n",
    "ort_session = ort.InferenceSession(onnx_model_path,providers=['CUDAExecutionProvider'])\n"
   ]
  },
  {
   "cell_type": "code",
   "execution_count": null,
   "metadata": {},
   "outputs": [],
   "source": [
    "srcimg = cv2.imread('input.png').astype(np.float32)\n",
    "\n",
    "outputs = ort_session.run(None, {'input_image:0': srcimg})\n",
    "plt.figure(figsize=(8,4))\n",
    "plt.subplot(1,2,1)\n",
    "plt.imshow( cv2.imread('input.png')[:,:,::-1])\n",
    "plt.subplot(1,2,2)\n",
    "plt.imshow(outputs[0].astype(np.uint8)[:,:,::-1])\n"
   ]
  },
  {
   "cell_type": "code",
   "execution_count": null,
   "metadata": {},
   "outputs": [],
   "source": [
    "# make batch convert scripts\n",
    "AVAILABLE_GPU=0\n",
    "\n",
    "out_scripts_fn = './batch_cvt_to_onnx.sh'\n",
    "out_scripts = open(out_scripts_fn, 'w')\n",
    "src_dir = './damo'\n",
    "dst_dir = './onnx_models'\n",
    "for model_tag in [\n",
    "    '3d',\n",
    "    'artstyle',\n",
    "    'handdrawn',\n",
    "    'sd-design',\n",
    "    'sd-illustration',\n",
    "    'sketch']:\n",
    "    src_model_subdir = os.path.join(src_dir,f'cv_unet_person-image-cartoon-{model_tag}_compound-models')\n",
    "    dst_model_subdir = os.path.join(dst_dir,f'cartoon-{model_tag}')\n",
    "    # bg\n",
    "    src_bg_model = os.path.join(src_model_subdir,'cartoon_bg.pb')\n",
    "    dst_bg_model = os.path.join(dst_model_subdir,f'{model_tag}_bg.onnx')\n",
    "    # head \n",
    "    src_head_model = os.path.join(src_model_subdir,'cartoon_h.pb')\n",
    "    dst_head_model = os.path.join(dst_model_subdir,f'{model_tag}_h.onnx')\n",
    "    os.makedirs(os.path.dirname(dst_bg_model),exist_ok=True)\n",
    "    input_name = \"input_image:0\"\n",
    "    output_name = \"output_image:0\"\n",
    "    cvt_line =f'CUDA_VISIBLE_DEVICES={AVAILABLE_GPU} python -m tf2onnx.convert --graphdef {src_bg_model} --output {dst_bg_model} --inputs {input_name} --outputs {output_name}\\n'\n",
    "    out_scripts.write(cvt_line)\n",
    "    cvt_line =f'CUDA_VISIBLE_DEVICES={AVAILABLE_GPU} python -m tf2onnx.convert --graphdef {src_head_model} --output {dst_head_model} --inputs {input_name} --outputs {output_name}\\n'\n",
    "    out_scripts.write(cvt_line)\n",
    "\n",
    "\n",
    "out_scripts.close()"
   ]
  }
 ],
 "metadata": {
  "kernelspec": {
   "display_name": "dctnet",
   "language": "python",
   "name": "python3"
  },
  "language_info": {
   "codemirror_mode": {
    "name": "ipython",
    "version": 3
   },
   "file_extension": ".py",
   "mimetype": "text/x-python",
   "name": "python",
   "nbconvert_exporter": "python",
   "pygments_lexer": "ipython3",
   "version": "3.7.16"
  },
  "orig_nbformat": 4
 },
 "nbformat": 4,
 "nbformat_minor": 2
}
